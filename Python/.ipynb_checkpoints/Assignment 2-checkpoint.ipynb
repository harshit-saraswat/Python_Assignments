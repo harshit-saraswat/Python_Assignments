{
 "cells": [
  {
   "cell_type": "markdown",
   "metadata": {},
   "source": [
    "# Task 1"
   ]
  },
  {
   "cell_type": "markdown",
   "metadata": {},
   "source": [
    "### 1.1. WAP to implement your own myreduce() function which works exactly like Python's built-in function reduce()"
   ]
  },
  {
   "cell_type": "code",
   "execution_count": 1,
   "metadata": {},
   "outputs": [
    {
     "name": "stdout",
     "output_type": "stream",
     "text": [
      "myreduce() output for addNums for [1, 2, 3, 4, 5] is: 15\n",
      "myreduce() output for multiplyNums for [1, 2, 3, 4, 5] is: 120\n"
     ]
    }
   ],
   "source": [
    "#Function to add 2 numbers\n",
    "def addNums(a,b):\n",
    "    return a+b\n",
    "\n",
    "#Function to multiply 2 numbers\n",
    "def multiplyNums(a,b):\n",
    "    return a*b\n",
    "\n",
    "#Reduce Function\n",
    "def myreduce(func,values):\n",
    "    res=values[0]\n",
    "    for i in range(1,len(values)):\n",
    "        res=func(res,values[i])\n",
    "    return res\n",
    "\n",
    "myValues=[1,2,3,4,5]\n",
    "print(\"myreduce() output for addNums for {} is: {}\".format(myValues,myreduce(addNums,myValues)))\n",
    "print(\"myreduce() output for multiplyNums for {} is: {}\".format(myValues,myreduce(multiplyNums,myValues)))\n"
   ]
  },
  {
   "cell_type": "markdown",
   "metadata": {},
   "source": [
    "### 1.2. Write a Python program to implement your own myfilter() function which works exactly like Python's built-in function filter()"
   ]
  },
  {
   "cell_type": "code",
   "execution_count": 2,
   "metadata": {},
   "outputs": [
    {
     "name": "stdout",
     "output_type": "stream",
     "text": [
      "myfilter() output for ['a', 'b', 'c', 'd', 'e', 'f'] is: ['a', 'e']\n",
      "myfilter() output for ['a', 'b', 'c', 'd', 'e', 'f'] is: ['a', 'e', 'i', 'o']\n"
     ]
    }
   ],
   "source": [
    "#Function to check vowels\n",
    "def checkVowel(letter):\n",
    "    if letter in 'aeiouAEIOU':\n",
    "        return True\n",
    "    else:\n",
    "        return False\n",
    "    \n",
    "#Filter Function\n",
    "def myfilter(func,values):\n",
    "    results=[]\n",
    "    for value in values:\n",
    "        res=func(value)\n",
    "        if res:\n",
    "            results.append(value)\n",
    "    return results\n",
    "myValues=['a','b','c','d','e','f']\n",
    "myValues2='abcdefghijklmno'\n",
    "print(\"myfilter() output for {} is: {}\".format(myValues,myfilter(checkVowel,myValues)))\n",
    "print(\"myfilter() output for {} is: {}\".format(myValues,myfilter(checkVowel,myValues2)))"
   ]
  },
  {
   "cell_type": "markdown",
   "metadata": {},
   "source": [
    "### 2. Implement List comprehensions to produce the following lists.\n",
    "#### 1. ['A', 'C', 'A', 'D', 'G', 'I', 'L', 'D']"
   ]
  },
  {
   "cell_type": "code",
   "execution_count": 4,
   "metadata": {},
   "outputs": [
    {
     "data": {
      "text/plain": [
       "['A', 'C', 'A', 'D', 'G', 'I', 'L', 'D']"
      ]
     },
     "execution_count": 4,
     "metadata": {},
     "output_type": "execute_result"
    }
   ],
   "source": [
    "vals=[x.upper() for x in 'AcadGild']\n",
    "vals"
   ]
  },
  {
   "cell_type": "markdown",
   "metadata": {},
   "source": [
    "#### 2. ['x', 'xx', 'xxx', 'xxxx', 'y', 'yy', 'yyy', 'yyyy', 'z', 'zz', 'zzz', 'zzzz']"
   ]
  },
  {
   "cell_type": "code",
   "execution_count": 5,
   "metadata": {},
   "outputs": [
    {
     "data": {
      "text/plain": [
       "['x', 'xx', 'xxx', 'xxxx', 'y', 'yy', 'yyy', 'yyyy', 'z', 'zz', 'zzz', 'zzzz']"
      ]
     },
     "execution_count": 5,
     "metadata": {},
     "output_type": "execute_result"
    }
   ],
   "source": [
    "vals=[x*y for x in ['x','y','z'] for y in range(1,5)]\n",
    "vals"
   ]
  },
  {
   "cell_type": "markdown",
   "metadata": {},
   "source": [
    "#### 3. ['x', 'y', 'z', 'xx', 'yy', 'zz', 'xxx', 'yyy', 'zzz', 'xxxx', 'yyyy', 'zzzz']"
   ]
  },
  {
   "cell_type": "code",
   "execution_count": 6,
   "metadata": {},
   "outputs": [
    {
     "data": {
      "text/plain": [
       "['x', 'y', 'z', 'xx', 'yy', 'zz', 'xxx', 'yyy', 'zzz', 'xxxx', 'yyyy', 'zzzz']"
      ]
     },
     "execution_count": 6,
     "metadata": {},
     "output_type": "execute_result"
    }
   ],
   "source": [
    "vals=[x*y for y in range(1,5) for x in ['x','y','z']]\n",
    "vals"
   ]
  },
  {
   "cell_type": "markdown",
   "metadata": {},
   "source": [
    "#### 4. [[2], [3], [4], [3], [4], [5], [4], [5], [6]]"
   ]
  },
  {
   "cell_type": "code",
   "execution_count": 7,
   "metadata": {},
   "outputs": [
    {
     "data": {
      "text/plain": [
       "[[2], [3], [4], [3], [4], [5], [4], [5], [6]]"
      ]
     },
     "execution_count": 7,
     "metadata": {},
     "output_type": "execute_result"
    }
   ],
   "source": [
    "vals=[[x+y] for x in range(2,5) for y in range(3)]\n",
    "vals"
   ]
  },
  {
   "cell_type": "markdown",
   "metadata": {},
   "source": [
    "#### 5. [[2, 3, 4, 5], [3, 4, 5, 6], [4, 5, 6, 7], [5, 6, 7, 8]]"
   ]
  },
  {
   "cell_type": "code",
   "execution_count": 8,
   "metadata": {},
   "outputs": [
    {
     "data": {
      "text/plain": [
       "[[2, 3, 4, 5], [3, 4, 5, 6], [4, 5, 6, 7], [5, 6, 7, 8]]"
      ]
     },
     "execution_count": 8,
     "metadata": {},
     "output_type": "execute_result"
    }
   ],
   "source": [
    "vals=[[x+y for x in range(2,6)] for y in range(4)]\n",
    "vals"
   ]
  },
  {
   "cell_type": "markdown",
   "metadata": {},
   "source": [
    "#### 6. [(1, 1), (2, 1), (3, 1), (1, 2), (2, 2), (3, 2), (1, 3), (2, 3), (3, 3)]"
   ]
  },
  {
   "cell_type": "code",
   "execution_count": 9,
   "metadata": {},
   "outputs": [
    {
     "data": {
      "text/plain": [
       "[(1, 1), (2, 1), (3, 1), (1, 2), (2, 2), (3, 2), (1, 3), (2, 3), (3, 3)]"
      ]
     },
     "execution_count": 9,
     "metadata": {},
     "output_type": "execute_result"
    }
   ],
   "source": [
    "vals=[(y,x) for x in range(1,4) for y in range(1,4)]\n",
    "vals"
   ]
  },
  {
   "cell_type": "markdown",
   "metadata": {},
   "source": [
    "### 3. Implement a function longestWord() that takes a list of words and returns the longest one."
   ]
  },
  {
   "cell_type": "code",
   "execution_count": 12,
   "metadata": {},
   "outputs": [
    {
     "data": {
      "text/plain": [
       "'harshit'"
      ]
     },
     "execution_count": 12,
     "metadata": {},
     "output_type": "execute_result"
    }
   ],
   "source": [
    "def longestWord(wordList):\n",
    "    maxLen=0\n",
    "    maxWord=''\n",
    "    for word in wordList:\n",
    "        if len(word)>maxLen:\n",
    "            maxLen=len(word)\n",
    "            maxWord=word\n",
    "    return maxWord\n",
    "\n",
    "words=['hello,','this','is','harshit','!']\n",
    "res=longestWord(words)\n",
    "res"
   ]
  },
  {
   "cell_type": "markdown",
   "metadata": {},
   "source": [
    "# Task 2"
   ]
  },
  {
   "cell_type": "markdown",
   "metadata": {},
   "source": [
    "### 1.1. WAP (with class concepts) to find the area of the triangle using the below formula.\n",
    "#### area = (s * (s-a) * (s-b) * (s-c)) * * 0.5\n",
    "#### Function to take the length of the sides of triangle from user should be defined in the parent class and function to calculate the area should be defined in subclass."
   ]
  },
  {
   "cell_type": "code",
   "execution_count": 13,
   "metadata": {},
   "outputs": [
    {
     "data": {
      "text/plain": [
       "6.0"
      ]
     },
     "execution_count": 13,
     "metadata": {},
     "output_type": "execute_result"
    }
   ],
   "source": [
    "class Triangle(object):\n",
    "    def __init__(self,a,b,c):\n",
    "        self.a=a\n",
    "        self.b=b\n",
    "        self.c=c\n",
    "        validity=self.valid()\n",
    "        if validity:\n",
    "            pass\n",
    "        else:\n",
    "            print(\"Not a valid triangle\")\n",
    "        \n",
    "    def valid(self):\n",
    "        if self.a+self.b>self.c and self.a+self.c>self.b and self.b+self.c>self.a:\n",
    "            return True\n",
    "        else:\n",
    "            return False\n",
    "        \n",
    "class Area(Triangle):\n",
    "    def __init__(self,a,b,c):\n",
    "        super().__init__(a,b,c)\n",
    "        self.s=(a+b+c)/2\n",
    "    def area(self):\n",
    "        area=(self.s*(self.s-self.a)*(self.s-self.b)*(self.s-self.c))**0.5\n",
    "        return area\n",
    "    \n",
    "triangle=Area(3,4,5)\n",
    "triangle.area()"
   ]
  },
  {
   "cell_type": "markdown",
   "metadata": {},
   "source": [
    "### 1.2. WAF filter_long_words() that takes a list of words and an integer n and returns the list of words that are longer than n."
   ]
  },
  {
   "cell_type": "code",
   "execution_count": 14,
   "metadata": {},
   "outputs": [
    {
     "data": {
      "text/plain": [
       "['hello', 'world', 'this', 'harshit']"
      ]
     },
     "execution_count": 14,
     "metadata": {},
     "output_type": "execute_result"
    }
   ],
   "source": [
    "def filter_long_words(words,num):\n",
    "    results=[]\n",
    "    for word in words:\n",
    "        if len(word)>num:\n",
    "            results.append(word)\n",
    "    return results\n",
    "\n",
    "words=['hello','world',',','this','is','harshit','!']\n",
    "filter_long_words(words,3)"
   ]
  },
  {
   "cell_type": "markdown",
   "metadata": {},
   "source": [
    "### 2.1. WAP using function concept that maps list of words into a list of integers representing the lengths of the corresponding words.\n",
    "#### Hint: \n",
    "If a list [ ab,cde,erty] is passed on to the python function output should come as [2,3,4] Here 2,3 and 4 are the lengths of the words in the list."
   ]
  },
  {
   "cell_type": "code",
   "execution_count": 15,
   "metadata": {},
   "outputs": [
    {
     "data": {
      "text/plain": [
       "[2, 3, 4]"
      ]
     },
     "execution_count": 15,
     "metadata": {},
     "output_type": "execute_result"
    }
   ],
   "source": [
    "def wordMapper(words):\n",
    "    result=[]\n",
    "    for word in words:\n",
    "        result.append(len(word))\n",
    "    return result\n",
    "\n",
    "words=['ab','cde','erty']\n",
    "wordMapper(words)"
   ]
  },
  {
   "cell_type": "markdown",
   "metadata": {},
   "source": [
    "### 2.2. Write a Python function which takes a character (i.e. a string of length 1) and returns True if it is a vowel, False otherwise."
   ]
  },
  {
   "cell_type": "code",
   "execution_count": 16,
   "metadata": {},
   "outputs": [
    {
     "name": "stdout",
     "output_type": "stream",
     "text": [
      "True\n",
      "False\n",
      "False\n"
     ]
    }
   ],
   "source": [
    "def checkVowel(char):\n",
    "    if char in 'aeiouAEIOU' and len(char)==1:\n",
    "        return True\n",
    "    else:\n",
    "        return False\n",
    "    \n",
    "print(checkVowel('a'))\n",
    "print(checkVowel('ae'))\n",
    "print(checkVowel('c'))"
   ]
  }
 ],
 "metadata": {
  "kernelspec": {
   "display_name": "Python 3",
   "language": "python",
   "name": "python3"
  },
  "language_info": {
   "codemirror_mode": {
    "name": "ipython",
    "version": 3
   },
   "file_extension": ".py",
   "mimetype": "text/x-python",
   "name": "python",
   "nbconvert_exporter": "python",
   "pygments_lexer": "ipython3",
   "version": "3.7.4"
  }
 },
 "nbformat": 4,
 "nbformat_minor": 4
}
