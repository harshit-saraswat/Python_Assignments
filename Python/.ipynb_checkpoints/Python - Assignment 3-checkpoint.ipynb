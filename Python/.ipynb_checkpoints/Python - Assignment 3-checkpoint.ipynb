{
 "cells": [
  {
   "cell_type": "markdown",
   "metadata": {},
   "source": [
    "## Q1. WAP to implement your own myreduce() function which works exactly like Python's built-in function reduce()"
   ]
  },
  {
   "cell_type": "code",
   "execution_count": 7,
   "metadata": {},
   "outputs": [
    {
     "name": "stdout",
     "output_type": "stream",
     "text": [
      "myreduce() output for addNums for [1, 2, 3, 4, 5] is: 15\n",
      "myreduce() output for multiplyNums for [1, 2, 3, 4, 5] is: 120\n"
     ]
    }
   ],
   "source": [
    "#Function to add 2 numbers\n",
    "def addNums(a,b):\n",
    "    return a+b\n",
    "\n",
    "#Function to multiply 2 numbers\n",
    "def multiplyNums(a,b):\n",
    "    return a*b\n",
    "\n",
    "#Reduce Function\n",
    "def myreduce(func,values):\n",
    "    res=values[0]\n",
    "    for i in range(1,len(values)):\n",
    "        res=func(res,values[i])\n",
    "    return res\n",
    "\n",
    "myValues=[1,2,3,4,5]\n",
    "print(\"myreduce() output for addNums for {} is: {}\".format(myValues,myreduce(addNums,myValues)))\n",
    "print(\"myreduce() output for multiplyNums for {} is: {}\".format(myValues,myreduce(multiplyNums,myValues)))\n"
   ]
  },
  {
   "cell_type": "markdown",
   "metadata": {},
   "source": [
    "## Q3. Write a Python program to implement your own myfilter() function which works exactly like Python's built-in function filter()"
   ]
  },
  {
   "cell_type": "code",
   "execution_count": 10,
   "metadata": {},
   "outputs": [
    {
     "name": "stdout",
     "output_type": "stream",
     "text": [
      "myfilter() output for ['a', 'b', 'c', 'd', 'e', 'f'] is: ['a', 'e']\n",
      "myfilter() output for ['a', 'b', 'c', 'd', 'e', 'f'] is: ['a', 'e', 'i', 'o']\n"
     ]
    }
   ],
   "source": [
    "#Function to check vowels\n",
    "def checkVowel(letter):\n",
    "    if letter in 'aeiouAEIOU':\n",
    "        return True\n",
    "    else:\n",
    "        return False\n",
    "    \n",
    "#Filter Function\n",
    "def myfilter(func,values):\n",
    "    results=[]\n",
    "    for value in values:\n",
    "        res=func(value)\n",
    "        if res:\n",
    "            results.append(value)\n",
    "    return results\n",
    "myValues=['a','b','c','d','e','f']\n",
    "myValues2='abcdefghijklmno'\n",
    "print(\"myfilter() output for {} is: {}\".format(myValues,myfilter(checkVowel,myValues)))\n",
    "print(\"myfilter() output for {} is: {}\".format(myValues,myfilter(checkVowel,myValues2)))"
   ]
  },
  {
   "cell_type": "markdown",
   "metadata": {},
   "source": [
    "## Q3. Implement List comprehensions to produce the following lists.\n",
    "### 1. ['x', 'xx', 'xxx', 'xxxx', 'y', 'yy', 'yyy', 'yyyy', 'z', 'zz', 'zzz', 'zzzz']"
   ]
  },
  {
   "cell_type": "code",
   "execution_count": 13,
   "metadata": {},
   "outputs": [
    {
     "data": {
      "text/plain": [
       "['x', 'xx', 'xxx', 'xxxx', 'y', 'yy', 'yyy', 'yyyy', 'z', 'zz', 'zzz', 'zzzz']"
      ]
     },
     "execution_count": 13,
     "metadata": {},
     "output_type": "execute_result"
    }
   ],
   "source": [
    "vals=[x*y for x in ['x','y','z'] for y in range(1,5)]\n",
    "vals"
   ]
  },
  {
   "cell_type": "markdown",
   "metadata": {},
   "source": [
    "### 2. ['x', 'y', 'z', 'xx', 'yy', 'zz', 'xxx', 'yyy', 'zzz', 'xxxx', 'yyyy', 'zzzz']"
   ]
  },
  {
   "cell_type": "code",
   "execution_count": 16,
   "metadata": {},
   "outputs": [
    {
     "data": {
      "text/plain": [
       "['x', 'y', 'z', 'xx', 'yy', 'zz', 'xxx', 'yyy', 'zzz', 'xxxx', 'yyyy', 'zzzz']"
      ]
     },
     "execution_count": 16,
     "metadata": {},
     "output_type": "execute_result"
    }
   ],
   "source": [
    "vals=[x*y for y in range(1,5) for x in ['x','y','z']]\n",
    "vals"
   ]
  },
  {
   "cell_type": "markdown",
   "metadata": {},
   "source": [
    "### 3. [[2], [3], [4], [3], [4], [5], [4], [5], [6]]"
   ]
  },
  {
   "cell_type": "code",
   "execution_count": 31,
   "metadata": {},
   "outputs": [
    {
     "data": {
      "text/plain": [
       "[[2], [3], [4], [3], [4], [5], [4], [5], [6]]"
      ]
     },
     "execution_count": 31,
     "metadata": {},
     "output_type": "execute_result"
    }
   ],
   "source": [
    "vals=[[x+y] for x in range(2,5) for y in range(3)]\n",
    "vals"
   ]
  },
  {
   "cell_type": "markdown",
   "metadata": {},
   "source": [
    "### 4. [[2, 3, 4, 5], [3, 4, 5, 6], [4, 5, 6, 7], [5, 6, 7, 8]]"
   ]
  },
  {
   "cell_type": "code",
   "execution_count": 38,
   "metadata": {},
   "outputs": [
    {
     "data": {
      "text/plain": [
       "[[2, 3, 4, 5], [3, 4, 5, 6], [4, 5, 6, 7], [5, 6, 7, 8]]"
      ]
     },
     "execution_count": 38,
     "metadata": {},
     "output_type": "execute_result"
    }
   ],
   "source": [
    "vals=[[x+y for x in range(2,6)] for y in range(4)]\n",
    "vals"
   ]
  },
  {
   "cell_type": "markdown",
   "metadata": {},
   "source": [
    "### 5. [(1, 1), (2, 1), (3, 1), (1, 2), (2, 2), (3, 2), (1, 3), (2, 3), (3, 3)]"
   ]
  },
  {
   "cell_type": "code",
   "execution_count": 41,
   "metadata": {},
   "outputs": [
    {
     "data": {
      "text/plain": [
       "[(1, 1), (2, 1), (3, 1), (1, 2), (2, 2), (3, 2), (1, 3), (2, 3), (3, 3)]"
      ]
     },
     "execution_count": 41,
     "metadata": {},
     "output_type": "execute_result"
    }
   ],
   "source": [
    "vals=[(y,x) for x in range(1,4) for y in range(1,4)]\n",
    "vals"
   ]
  }
 ],
 "metadata": {
  "kernelspec": {
   "display_name": "Python 3",
   "language": "python",
   "name": "python3"
  },
  "language_info": {
   "codemirror_mode": {
    "name": "ipython",
    "version": 3
   },
   "file_extension": ".py",
   "mimetype": "text/x-python",
   "name": "python",
   "nbconvert_exporter": "python",
   "pygments_lexer": "ipython3",
   "version": "3.7.4"
  }
 },
 "nbformat": 4,
 "nbformat_minor": 4
}
