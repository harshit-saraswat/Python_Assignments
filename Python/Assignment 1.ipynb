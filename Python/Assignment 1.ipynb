{
 "cells": [
  {
   "cell_type": "markdown",
   "metadata": {},
   "source": [
    "# Task 1"
   ]
  },
  {
   "cell_type": "markdown",
   "metadata": {},
   "source": [
    "### 1. Install Jupyter notebook and run the first program and share the screenshot of the output."
   ]
  },
  {
   "cell_type": "code",
   "execution_count": 1,
   "metadata": {},
   "outputs": [
    {
     "name": "stdout",
     "output_type": "stream",
     "text": [
      "Hello World!\n"
     ]
    }
   ],
   "source": [
    "print(\"Hello World!\")"
   ]
  },
  {
   "cell_type": "markdown",
   "metadata": {},
   "source": [
    "### 2. WAP which finds all numbers divisible by 7 but are not a multiple of 5, between 2000 and 3200, both included. The numbers obtained should be printed in a comma separated sequence in a single line."
   ]
  },
  {
   "cell_type": "code",
   "execution_count": 2,
   "metadata": {},
   "outputs": [
    {
     "name": "stdout",
     "output_type": "stream",
     "text": [
      "2002,2009,2016,2023,2037,2044,2051,2058,2072,2079,2086,2093,2107,2114,2121,2128,2142,2149,2156,2163,2177,2184,2191,2198,2212,2219,2226,2233,2247,2254,2261,2268,2282,2289,2296,2303,2317,2324,2331,2338,2352,2359,2366,2373,2387,2394,2401,2408,2422,2429,2436,2443,2457,2464,2471,2478,2492,2499,2506,2513,2527,2534,2541,2548,2562,2569,2576,2583,2597,2604,2611,2618,2632,2639,2646,2653,2667,2674,2681,2688,2702,2709,2716,2723,2737,2744,2751,2758,2772,2779,2786,2793,2807,2814,2821,2828,2842,2849,2856,2863,2877,2884,2891,2898,2912,2919,2926,2933,2947,2954,2961,2968,2982,2989,2996,3003,3017,3024,3031,3038,3052,3059,3066,3073,3087,3094,3101,3108,3122,3129,3136,3143,3157,3164,3171,3178,3192,3199\n"
     ]
    }
   ],
   "source": [
    "numList=list()\n",
    "lowerLimit=2000\n",
    "upperLimit=3200\n",
    "\n",
    "for i in range(lowerLimit,upperLimit+1):\n",
    "    if i%7==0 and i%5!=0:\n",
    "        numList.append(i)\n",
    "\n",
    "print(*numList,sep=',')"
   ]
  },
  {
   "cell_type": "markdown",
   "metadata": {},
   "source": [
    "### 3. WAP to accept the user's first and last name and then getting them printed in the the reverse order with a space between first name and last name."
   ]
  },
  {
   "cell_type": "code",
   "execution_count": 3,
   "metadata": {},
   "outputs": [
    {
     "name": "stdout",
     "output_type": "stream",
     "text": [
      "Enter your first name: Harshit\n",
      "Enter your last name: Saraswat\n",
      "Name entered is:  Harshit Saraswat\n",
      "Switching first and last name postions:  Saraswat Harshit\n",
      "Reversed name is:  tihsraH tawsaraS\n",
      "Completely Reversed name is:  tawsaraS tihsraH\n"
     ]
    }
   ],
   "source": [
    "firstName=input(\"Enter your first name: \")\n",
    "lastName=input(\"Enter your last name: \")\n",
    "\n",
    "name=[firstName,lastName]\n",
    "\n",
    "print(\"Name entered is: \",' '.join(name))\n",
    "print(\"Switching first and last name postions: \",' '.join(name[::-1]))\n",
    "print(\"Reversed name is: \",' '.join([x[::-1] for x in name]))\n",
    "print(\"Completely Reversed name is: \",' '.join(name)[::-1])"
   ]
  },
  {
   "cell_type": "markdown",
   "metadata": {},
   "source": [
    "### 4. Write a Python program to find the volume of a sphere with diameter 12 cm.\n",
    "\n",
    "#### Formula: V = 4/3 π r3"
   ]
  },
  {
   "cell_type": "code",
   "execution_count": 4,
   "metadata": {},
   "outputs": [
    {
     "name": "stdout",
     "output_type": "stream",
     "text": [
      "Volume of sphere with radius 12cm is 904.3199999999999 cubic cm\n"
     ]
    }
   ],
   "source": [
    "diameter=12\n",
    "radius=diameter/2\n",
    "volume=((4/3)*3.14*(radius**3))\n",
    "print(\"Volume of sphere with radius 12cm is {} cubic cm\".format(volume))"
   ]
  },
  {
   "cell_type": "markdown",
   "metadata": {},
   "source": [
    "# Task 2"
   ]
  },
  {
   "cell_type": "markdown",
   "metadata": {},
   "source": [
    "### 1. WAP which accepts a sequence of comma-separated numbers from console and generate a list."
   ]
  },
  {
   "cell_type": "code",
   "execution_count": 9,
   "metadata": {},
   "outputs": [
    {
     "name": "stdout",
     "output_type": "stream",
     "text": [
      "Numbers: 1,2,3,4\n"
     ]
    },
    {
     "data": {
      "text/plain": [
       "[1, 2, 3, 4]"
      ]
     },
     "execution_count": 9,
     "metadata": {},
     "output_type": "execute_result"
    }
   ],
   "source": [
    "vals=input(\"Numbers: \")\n",
    "vals=vals.split(',')\n",
    "vals=[int(x) for x in vals]\n",
    "vals"
   ]
  },
  {
   "cell_type": "markdown",
   "metadata": {},
   "source": [
    "### 2. Create the below pattern using nested for loop in Python.\n",
    "\n",
    "<p>\n",
    "* <br>\n",
    "* * <br>\n",
    "* * * <br>\n",
    "* * * * <br>\n",
    "* * * * * <br>\n",
    "* * * * <br>\n",
    "* * * <br>\n",
    "* * <br>\n",
    "* <br>\n",
    "</p>"
   ]
  },
  {
   "cell_type": "code",
   "execution_count": 10,
   "metadata": {},
   "outputs": [
    {
     "name": "stdout",
     "output_type": "stream",
     "text": [
      "\n",
      "\n",
      "* \n",
      "\n",
      "* * \n",
      "\n",
      "* * * \n",
      "\n",
      "* * * * \n",
      "\n",
      "* * * * * \n",
      "\n",
      "* * * * \n",
      "\n",
      "* * * \n",
      "\n",
      "* * \n",
      "\n",
      "* \n",
      "\n"
     ]
    }
   ],
   "source": [
    "rows=5\n",
    "#Printing above half\n",
    "for i in range(rows):\n",
    "    for j in range(i):\n",
    "        print('*',end=\" \")\n",
    "    print('\\n')\n",
    "    \n",
    "#Printing the lower half\n",
    "for i in range(rows,0,-1):\n",
    "    for j in range(i):\n",
    "        print('*',end=\" \")\n",
    "    print(\"\\n\")"
   ]
  },
  {
   "cell_type": "markdown",
   "metadata": {},
   "source": [
    "### 3. Write a Python program to reverse a word after accepting the input from the user.\n",
    "\n",
    "### Sample Output:\n",
    "\n",
    "#### Input word: AcadGila\n",
    "#### Output: aliGdacA"
   ]
  },
  {
   "cell_type": "code",
   "execution_count": 11,
   "metadata": {},
   "outputs": [
    {
     "name": "stdout",
     "output_type": "stream",
     "text": [
      "Input word:AcadGila\n",
      "Output:  aliGdacA\n"
     ]
    }
   ],
   "source": [
    "word=input(\"Input word:\")\n",
    "print(\"Output: \",word[::-1])"
   ]
  },
  {
   "cell_type": "markdown",
   "metadata": {},
   "source": [
    "### 4. Write a Python Program to print the given string in the format specified in the sample output.\n",
    "#### WE, THE PEOPLE OF INDIA, having solemnly resolved to constitute India into a SOVEREIGN, SOCIALIST, SECULAR, DEMOCRATIC REPUBLIC and to secure to all its citizens\n",
    "\n",
    "### Sample Output:\n",
    "#### WE, THE PEOPLE OF INDIA,\n",
    "#### &emsp; having solemnly resolved to constitute India into a SOVEREIGN, !\n",
    "#### &emsp; &emsp; SOCIALIST, SECULAR, DEMOCRATIC REPUBLIC\n",
    "####  &emsp; &emsp; and to secure to all its citizens"
   ]
  },
  {
   "cell_type": "code",
   "execution_count": 12,
   "metadata": {},
   "outputs": [
    {
     "name": "stdout",
     "output_type": "stream",
     "text": [
      "WE, THE PEOPLE OF INDIA,\n",
      "\thaving solemnly resolved to constitute India into a SOVEREIGN, !\n",
      "\t\tSOCIALIST, SECULAR, DEMOCRATIC REPUBLIC\n",
      "\t\tand to secure to all its citizens\n"
     ]
    }
   ],
   "source": [
    "print(\"WE, THE PEOPLE OF INDIA,\\n\\thaving solemnly resolved to constitute India into a SOVEREIGN, !\\n\\t\\tSOCIALIST, SECULAR, DEMOCRATIC REPUBLIC\\n\\t\\tand to secure to all its citizens\")"
   ]
  },
  {
   "cell_type": "code",
   "execution_count": null,
   "metadata": {},
   "outputs": [],
   "source": []
  }
 ],
 "metadata": {
  "kernelspec": {
   "display_name": "Python 3",
   "language": "python",
   "name": "python3"
  },
  "language_info": {
   "codemirror_mode": {
    "name": "ipython",
    "version": 3
   },
   "file_extension": ".py",
   "mimetype": "text/x-python",
   "name": "python",
   "nbconvert_exporter": "python",
   "pygments_lexer": "ipython3",
   "version": "3.7.4"
  }
 },
 "nbformat": 4,
 "nbformat_minor": 4
}
